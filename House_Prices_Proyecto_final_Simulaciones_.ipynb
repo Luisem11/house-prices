{
  "nbformat": 4,
  "nbformat_minor": 0,
  "metadata": {
    "colab": {
      "name": "House Prices - Proyecto final Simulaciones .ipynb",
      "provenance": [],
      "collapsed_sections": [
        "lyJSINqXKfg6",
        "nJiifdEIYHCU",
        "K8OF-486YYJt",
        "2MIhJUM1p28F",
        "TVlJGyszqKDQ",
        "378kJHQDtJOf",
        "kr3xXS2N2-WE",
        "IuZAAquQtUaq",
        "lE6tCNvf6lrQ",
        "XlqBsCgJtaZv",
        "Gq37L6y8AgeO"
      ]
    },
    "kernelspec": {
      "name": "python3",
      "display_name": "Python 3"
    }
  },
  "cells": [
    {
      "cell_type": "markdown",
      "metadata": {
        "id": "tQwUznnF6lYx"
      },
      "source": [
        "# Proyecto Simulación de sistemas: House prices"
      ]
    },
    {
      "cell_type": "markdown",
      "metadata": {
        "id": "davqlx7e6lRB"
      },
      "source": [
        "* Luis Ernesto Monsalve Arango\n",
        "ernesto.monsalve@udea.edu.co\n",
        "* Johnatan Andrés Gómez Monsalve\n",
        "johnatana.gomez@udea.edu.co"
      ]
    },
    {
      "cell_type": "markdown",
      "metadata": {
        "id": "lyJSINqXKfg6"
      },
      "source": [
        "### Importando librerías y cargando datos"
      ]
    },
    {
      "cell_type": "code",
      "metadata": {
        "id": "zXQQwRSr64fD"
      },
      "source": [
        "import time\n",
        "import pandas as pd\n",
        "from matplotlib import pyplot as plt\n",
        "import numpy as np\n",
        "import seaborn as sns\n",
        "import matplotlib.pyplot as plt\n",
        "from sklearn.linear_model import LinearRegression\n",
        "from sklearn.model_selection import train_test_split, KFold, ShuffleSplit, StratifiedKFold\n",
        "from sklearn.preprocessing import OrdinalEncoder, StandardScaler, OneHotEncoder, LabelEncoder\n",
        "from sklearn.metrics import mean_absolute_error, mean_squared_error,r2_score\n",
        "from sklearn.tree import DecisionTreeRegressor\n",
        "from sklearn.ensemble import RandomForestRegressor, AdaBoostRegressor, GradientBoostingRegressor\n",
        "from sklearn.neural_network import MLPRegressor\n",
        "from sklearn.experimental import enable_iterative_imputer\n",
        "from sklearn.impute import SimpleImputer, KNNImputer, IterativeImputer \n",
        "from scipy.spatial.distance import cdist \n",
        "from scipy.stats import skew, norm"
      ],
      "execution_count": 1,
      "outputs": []
    },
    {
      "cell_type": "code",
      "metadata": {
        "id": "7QEkeRnYYFyF"
      },
      "source": [
        "# Para evitar que la siguiente linea falle\r\n",
        "! rm -r house-prices/"
      ],
      "execution_count": 2,
      "outputs": []
    },
    {
      "cell_type": "code",
      "metadata": {
        "colab": {
          "base_uri": "https://localhost:8080/"
        },
        "id": "drBmIUoOWJrl",
        "outputId": "ba4e73a2-1454-43f2-9f8f-2e3a1771ac18"
      },
      "source": [
        "# Carga los datos\r\n",
        "! git clone https://github.com/Luisem11/house-prices"
      ],
      "execution_count": 3,
      "outputs": [
        {
          "output_type": "stream",
          "text": [
            "Cloning into 'house-prices'...\n",
            "remote: Enumerating objects: 8, done.\u001b[K\n",
            "remote: Counting objects:  12% (1/8)\u001b[K\rremote: Counting objects:  25% (2/8)\u001b[K\rremote: Counting objects:  37% (3/8)\u001b[K\rremote: Counting objects:  50% (4/8)\u001b[K\rremote: Counting objects:  62% (5/8)\u001b[K\rremote: Counting objects:  75% (6/8)\u001b[K\rremote: Counting objects:  87% (7/8)\u001b[K\rremote: Counting objects: 100% (8/8)\u001b[K\rremote: Counting objects: 100% (8/8), done.\u001b[K\n",
            "remote: Compressing objects:  16% (1/6)\u001b[K\rremote: Compressing objects:  33% (2/6)\u001b[K\rremote: Compressing objects:  50% (3/6)\u001b[K\rremote: Compressing objects:  66% (4/6)\u001b[K\rremote: Compressing objects:  83% (5/6)\u001b[K\rremote: Compressing objects: 100% (6/6)\u001b[K\rremote: Compressing objects: 100% (6/6), done.\u001b[K\n",
            "Unpacking objects:  12% (1/8)   \rUnpacking objects:  25% (2/8)   \rUnpacking objects:  37% (3/8)   \rUnpacking objects:  50% (4/8)   \rUnpacking objects:  62% (5/8)   \rUnpacking objects:  75% (6/8)   \rremote: Total 8 (delta 1), reused 8 (delta 1), pack-reused 0\u001b[K\n",
            "Unpacking objects:  87% (7/8)   \rUnpacking objects: 100% (8/8)   \rUnpacking objects: 100% (8/8), done.\n"
          ],
          "name": "stdout"
        }
      ]
    },
    {
      "cell_type": "code",
      "metadata": {
        "id": "2R2-9OIVW_2j"
      },
      "source": [
        "df = pd.read_csv('/content/house-prices/data/train.csv',index_col='Id')"
      ],
      "execution_count": 4,
      "outputs": []
    },
    {
      "cell_type": "markdown",
      "metadata": {
        "id": "uQPN8vk0X6Fg"
      },
      "source": [
        "### Exploración de los datos"
      ]
    },
    {
      "cell_type": "code",
      "metadata": {
        "id": "TDWXQIZkJt-g"
      },
      "source": [
        "def getMissingValues(df):\r\n",
        "  all_data_na = (df.isnull().sum() / len(df)) * 100\r\n",
        "  all_data_na = all_data_na.drop(all_data_na[all_data_na == 0].index).sort_values(ascending=False)[:]\r\n",
        "  missing_data = pd.DataFrame({'% Faltantes' :all_data_na})\r\n",
        "  return missing_data"
      ],
      "execution_count": 5,
      "outputs": []
    },
    {
      "cell_type": "code",
      "metadata": {
        "colab": {
          "base_uri": "https://localhost:8080/"
        },
        "id": "5-Vvr_V5X9eo",
        "outputId": "9eafc49d-37f0-48c3-9612-e046724f8d70"
      },
      "source": [
        "df['SalePrice'].describe()"
      ],
      "execution_count": 6,
      "outputs": [
        {
          "output_type": "execute_result",
          "data": {
            "text/plain": [
              "count      1460.000000\n",
              "mean     180921.195890\n",
              "std       79442.502883\n",
              "min       34900.000000\n",
              "25%      129975.000000\n",
              "50%      163000.000000\n",
              "75%      214000.000000\n",
              "max      755000.000000\n",
              "Name: SalePrice, dtype: float64"
            ]
          },
          "metadata": {
            "tags": []
          },
          "execution_count": 6
        }
      ]
    },
    {
      "cell_type": "markdown",
      "metadata": {
        "id": "t-e1e2XeZod_"
      },
      "source": [
        "#### Distribucipon de variable de salida"
      ]
    },
    {
      "cell_type": "code",
      "metadata": {
        "colab": {
          "base_uri": "https://localhost:8080/",
          "height": 423
        },
        "id": "7TFPcTNpYBXt",
        "outputId": "94f6dccf-2f24-4770-bbe2-a085263f6ceb"
      },
      "source": [
        "from scipy import stats\r\n",
        "y= df['SalePrice']\r\n",
        "fig, ax = plt.subplots(1, 2)\r\n",
        "fig.set_size_inches(10, 5)\r\n",
        "plt.subplot(1, 2, 1)\r\n",
        "sns.distplot(y)\r\n",
        "plt.subplot(1, 2, 2)\r\n",
        "stats.probplot(y,plot=plt)\r\n",
        "plt.tight_layout()"
      ],
      "execution_count": 7,
      "outputs": [
        {
          "output_type": "stream",
          "text": [
            "/usr/local/lib/python3.6/dist-packages/seaborn/distributions.py:2557: FutureWarning: `distplot` is a deprecated function and will be removed in a future version. Please adapt your code to use either `displot` (a figure-level function with similar flexibility) or `histplot` (an axes-level function for histograms).\n",
            "  warnings.warn(msg, FutureWarning)\n"
          ],
          "name": "stderr"
        },
        {
          "output_type": "display_data",
          "data": {
            "image/png": "[encoded data removed]",
            "text/plain": [
              "<Figure size 720x360 with 2 Axes>"
            ]
          },
          "metadata": {
            "tags": [],
            "needs_background": "light"
          }
        }
      ]
    },
    {
      "cell_type": "code",
      "metadata": {
        "colab": {
          "base_uri": "https://localhost:8080/",
          "height": 423
        },
        "id": "dkyZ6lvdYJrC",
        "outputId": "4d66d7ec-01be-4e95-866e-6ba0eb664577"
      },
      "source": [
        "y= np.log1p(df['SalePrice'])\r\n",
        "fig, ax = plt.subplots(1, 2)\r\n",
        "fig.set_size_inches(10, 5)\r\n",
        "plt.subplot(1, 2, 1)\r\n",
        "sns.distplot(y)\r\n",
        "plt.subplot(1, 2, 2)\r\n",
        "stats.probplot(y,plot=plt)\r\n",
        "plt.tight_layout()"
      ],
      "execution_count": 8,
      "outputs": [
        {
          "output_type": "stream",
          "text": [
            "/usr/local/lib/python3.6/dist-packages/seaborn/distributions.py:2557: FutureWarning: `distplot` is a deprecated function and will be removed in a future version. Please adapt your code to use either `displot` (a figure-level function with similar flexibility) or `histplot` (an axes-level function for histograms).\n",
            "  warnings.warn(msg, FutureWarning)\n"
          ],
          "name": "stderr"
        },
        {
          "output_type": "display_data",
          "data": {
            "image/png": "[encoded data removed]",
            "text/plain": [
              "<Figure size 720x360 with 2 Axes>"
            ]
          },
          "metadata": {
            "tags": [],
            "needs_background": "light"
          }
        }
      ]
    },
    {
      "cell_type": "code",
      "metadata": {
        "colab": {
          "base_uri": "https://localhost:8080/",
          "height": 441
        },
        "id": "USmaqjhiYQ__",
        "outputId": "4e214ce7-2e74-49a5-95c5-c4e1d3719a16"
      },
      "source": [
        "import warnings\r\n",
        "warnings.filterwarnings(\"ignore\")\r\n",
        "fig, axes = plt.subplots(nrows=4, ncols=1, figsize=(6, 6))\r\n",
        "sns.distplot(\r\n",
        "    df['SalePrice'],\r\n",
        "    hist    = False,\r\n",
        "    rug     = True,\r\n",
        "    color   = \"blue\",\r\n",
        "    kde_kws = {'shade': True, 'linewidth': 1},\r\n",
        "    ax      = axes[0]\r\n",
        ")\r\n",
        "axes[0].set_title(\"Distribución original\", fontsize = 'medium')\r\n",
        "axes[0].set_xlabel('precio', fontsize='small') \r\n",
        "axes[0].tick_params(labelsize = 6)\r\n",
        "\r\n",
        "sns.distplot(\r\n",
        "    np.sqrt(df['SalePrice']),\r\n",
        "    hist    = False,\r\n",
        "    rug     = True,\r\n",
        "    color   = \"blue\",\r\n",
        "    kde_kws = {'shade': True, 'linewidth': 1},\r\n",
        "    ax      = axes[1]\r\n",
        ")\r\n",
        "axes[1].set_title(\"Transformación raíz cuadrada\", fontsize = 'medium')\r\n",
        "axes[1].set_xlabel('sqrt(precio)', fontsize='small') \r\n",
        "axes[1].tick_params(labelsize = 6)\r\n",
        "\r\n",
        "sns.distplot(\r\n",
        "    np.log(df['SalePrice']),\r\n",
        "    hist    = False,\r\n",
        "    rug     = True,\r\n",
        "    color   = \"blue\",\r\n",
        "    kde_kws = {'shade': True, 'linewidth': 1},\r\n",
        "    ax      = axes[2]\r\n",
        ")\r\n",
        "axes[2].set_title(\"Transformación logarítmica\", fontsize = 'medium')\r\n",
        "axes[2].set_xlabel('log(precio)', fontsize='small') \r\n",
        "axes[2].tick_params(labelsize = 6)\r\n",
        "\r\n",
        "sns.distplot(\r\n",
        "    np.log2(df['SalePrice']),\r\n",
        "    hist    = False,\r\n",
        "    rug     = True,\r\n",
        "    color   = \"blue\",\r\n",
        "    kde_kws = {'shade': True, 'linewidth': 1},\r\n",
        "    ax      = axes[3]\r\n",
        ")\r\n",
        "axes[3].set_title(\"Transformación logarítmica\", fontsize = 'medium')\r\n",
        "axes[3].set_xlabel('log2(precio)', fontsize='small') \r\n",
        "axes[3].tick_params(labelsize = 6)\r\n",
        "\r\n",
        "fig.tight_layout()"
      ],
      "execution_count": 9,
      "outputs": [
        {
          "output_type": "display_data",
          "data": {
            "image/png": "[encoded data removed]",
            "text/plain": [
              "<Figure size 432x432 with 4 Axes>"
            ]
          },
          "metadata": {
            "tags": [],
            "needs_background": "light"
          }
        }
      ]
    },
    {
      "cell_type": "markdown",
      "metadata": {
        "id": "x4nbsiJaZTGv"
      },
      "source": [
        "#### Matriz de correlación"
      ]
    },
    {
      "cell_type": "code",
      "metadata": {
        "colab": {
          "base_uri": "https://localhost:8080/",
          "height": 636
        },
        "id": "p0_A3FjlYdwQ",
        "outputId": "dc2ac339-1145-47f6-d454-a2190e4d4158"
      },
      "source": [
        "k = 10\r\n",
        "corrmat = df.corr()\r\n",
        "cols = corrmat.nlargest(k, 'SalePrice')['SalePrice'].index\r\n",
        "cm = np.corrcoef(df[cols].values.T)\r\n",
        "sns.set(font_scale=1.25)\r\n",
        "plt.subplots(figsize=(12,9))\r\n",
        "hm = sns.heatmap(cm,\r\n",
        "                 cbar=True,\r\n",
        "                 annot=True,\r\n",
        "                 square=True,\r\n",
        "                 fmt='.2f',\r\n",
        "                 annot_kws={'size': 10},\r\n",
        "                 yticklabels=cols.values,\r\n",
        "                 xticklabels=cols.values)\r\n",
        "plt.show()"
      ],
      "execution_count": 10,
      "outputs": [
        {
          "output_type": "display_data",
          "data": {
            "image/png": "[encoded data removed]",
            "text/plain": [
              "<Figure size 864x648 with 2 Axes>"
            ]
          },
          "metadata": {
            "tags": []
          }
        }
      ]
    },
    {
      "cell_type": "markdown",
      "metadata": {
        "id": "GZIZWFFKZOnf"
      },
      "source": [
        "#### Valores faltantes"
      ]
    },
    {
      "cell_type": "code",
      "metadata": {
        "colab": {
          "base_uri": "https://localhost:8080/",
          "height": 638
        },
        "id": "wBM8DcmNZMvP",
        "outputId": "4dfaa589-2f2a-440c-97fb-cbc9075952a0"
      },
      "source": [
        "getMissingValues(df)"
      ],
      "execution_count": 11,
      "outputs": [
        {
          "output_type": "execute_result",
          "data": {
            "text/html": [
              "<div>\n",
              "<style scoped>\n",
              "    .dataframe tbody tr th:only-of-type {\n",
              "        vertical-align: middle;\n",
              "    }\n",
              "\n",
              "    .dataframe tbody tr th {\n",
              "        vertical-align: top;\n",
              "    }\n",
              "\n",
              "    .dataframe thead th {\n",
              "        text-align: right;\n",
              "    }\n",
              "</style>\n",
              "<table border=\"1\" class=\"dataframe\">\n",
              "  <thead>\n",
              "    <tr style=\"text-align: right;\">\n",
              "      <th></th>\n",
              "      <th>% Faltantes</th>\n",
              "    </tr>\n",
              "  </thead>\n",
              "  <tbody>\n",
              "    <tr>\n",
              "      <th>PoolQC</th>\n",
              "      <td>99.520548</td>\n",
              "    </tr>\n",
              "    <tr>\n",
              "      <th>MiscFeature</th>\n",
              "      <td>96.301370</td>\n",
              "    </tr>\n",
              "    <tr>\n",
              "      <th>Alley</th>\n",
              "      <td>93.767123</td>\n",
              "    </tr>\n",
              "    <tr>\n",
              "      <th>Fence</th>\n",
              "      <td>80.753425</td>\n",
              "    </tr>\n",
              "    <tr>\n",
              "      <th>FireplaceQu</th>\n",
              "      <td>47.260274</td>\n",
              "    </tr>\n",
              "    <tr>\n",
              "      <th>LotFrontage</th>\n",
              "      <td>17.739726</td>\n",
              "    </tr>\n",
              "    <tr>\n",
              "      <th>GarageYrBlt</th>\n",
              "      <td>5.547945</td>\n",
              "    </tr>\n",
              "    <tr>\n",
              "      <th>GarageType</th>\n",
              "      <td>5.547945</td>\n",
              "    </tr>\n",
              "    <tr>\n",
              "      <th>GarageFinish</th>\n",
              "      <td>5.547945</td>\n",
              "    </tr>\n",
              "    <tr>\n",
              "      <th>GarageQual</th>\n",
              "      <td>5.547945</td>\n",
              "    </tr>\n",
              "    <tr>\n",
              "      <th>GarageCond</th>\n",
              "      <td>5.547945</td>\n",
              "    </tr>\n",
              "    <tr>\n",
              "      <th>BsmtFinType2</th>\n",
              "      <td>2.602740</td>\n",
              "    </tr>\n",
              "    <tr>\n",
              "      <th>BsmtExposure</th>\n",
              "      <td>2.602740</td>\n",
              "    </tr>\n",
              "    <tr>\n",
              "      <th>BsmtFinType1</th>\n",
              "      <td>2.534247</td>\n",
              "    </tr>\n",
              "    <tr>\n",
              "      <th>BsmtCond</th>\n",
              "      <td>2.534247</td>\n",
              "    </tr>\n",
              "    <tr>\n",
              "      <th>BsmtQual</th>\n",
              "      <td>2.534247</td>\n",
              "    </tr>\n",
              "    <tr>\n",
              "      <th>MasVnrArea</th>\n",
              "      <td>0.547945</td>\n",
              "    </tr>\n",
              "    <tr>\n",
              "      <th>MasVnrType</th>\n",
              "      <td>0.547945</td>\n",
              "    </tr>\n",
              "    <tr>\n",
              "      <th>Electrical</th>\n",
              "      <td>0.068493</td>\n",
              "    </tr>\n",
              "  </tbody>\n",
              "</table>\n",
              "</div>"
            ],
            "text/plain": [
              "              % Faltantes\n",
              "PoolQC          99.520548\n",
              "MiscFeature     96.301370\n",
              "Alley           93.767123\n",
              "Fence           80.753425\n",
              "FireplaceQu     47.260274\n",
              "LotFrontage     17.739726\n",
              "GarageYrBlt      5.547945\n",
              "GarageType       5.547945\n",
              "GarageFinish     5.547945\n",
              "GarageQual       5.547945\n",
              "GarageCond       5.547945\n",
              "BsmtFinType2     2.602740\n",
              "BsmtExposure     2.602740\n",
              "BsmtFinType1     2.534247\n",
              "BsmtCond         2.534247\n",
              "BsmtQual         2.534247\n",
              "MasVnrArea       0.547945\n",
              "MasVnrType       0.547945\n",
              "Electrical       0.068493"
            ]
          },
          "metadata": {
            "tags": []
          },
          "execution_count": 11
        }
      ]
    },
    {
      "cell_type": "markdown",
      "metadata": {
        "id": "K8OF-486YYJt"
      },
      "source": [
        "### Preprocesamiento de datos"
      ]
    },
    {
      "cell_type": "markdown",
      "metadata": {
        "id": "a9BhoPQaVraN"
      },
      "source": [
        "Se ópta por trabajar con la versión normalizada de la clase de salida y por borrar cuatro columnas porque sus porcentajes faltantes de datos son muy altos"
      ]
    },
    {
      "cell_type": "code",
      "metadata": {
        "id": "GWbukepuVql1"
      },
      "source": [
        "df['SalePrice'] = np.log1p(df['SalePrice'])"
      ],
      "execution_count": 12,
      "outputs": []
    },
    {
      "cell_type": "code",
      "metadata": {
        "id": "UpJ2vt558D7e"
      },
      "source": [
        "# Deleting features from both dataset\r\n",
        "train_labels = df['SalePrice'].reset_index(drop=True)\r\n",
        "\r\n",
        "df = df.drop(['PoolQC', 'MiscFeature', 'Alley', 'Fence'], 1)"
      ],
      "execution_count": 13,
      "outputs": []
    },
    {
      "cell_type": "code",
      "metadata": {
        "colab": {
          "base_uri": "https://localhost:8080/"
        },
        "id": "5B6mI6FA523k",
        "outputId": "46031fd3-c08b-45fc-d7af-f85e17ca126b"
      },
      "source": [
        "categorical_features = df.select_dtypes(include=['object']).columns\r\n",
        "categorical_features"
      ],
      "execution_count": 14,
      "outputs": [
        {
          "output_type": "execute_result",
          "data": {
            "text/plain": [
              "Index(['MSZoning', 'Street', 'LotShape', 'LandContour', 'Utilities',\n",
              "       'LotConfig', 'LandSlope', 'Neighborhood', 'Condition1', 'Condition2',\n",
              "       'BldgType', 'HouseStyle', 'RoofStyle', 'RoofMatl', 'Exterior1st',\n",
              "       'Exterior2nd', 'MasVnrType', 'ExterQual', 'ExterCond', 'Foundation',\n",
              "       'BsmtQual', 'BsmtCond', 'BsmtExposure', 'BsmtFinType1', 'BsmtFinType2',\n",
              "       'Heating', 'HeatingQC', 'CentralAir', 'Electrical', 'KitchenQual',\n",
              "       'Functional', 'FireplaceQu', 'GarageType', 'GarageFinish', 'GarageQual',\n",
              "       'GarageCond', 'PavedDrive', 'SaleType', 'SaleCondition'],\n",
              "      dtype='object')"
            ]
          },
          "metadata": {
            "tags": []
          },
          "execution_count": 14
        }
      ]
    },
    {
      "cell_type": "code",
      "metadata": {
        "colab": {
          "base_uri": "https://localhost:8080/"
        },
        "id": "HaNdX7Gs6DQB",
        "outputId": "17cc6466-1117-4f20-9f79-2f8382b858a3"
      },
      "source": [
        "# Numerical features\r\n",
        "numerical_features = df.select_dtypes(exclude = [\"object\"]).columns\r\n",
        "numerical_features"
      ],
      "execution_count": 15,
      "outputs": [
        {
          "output_type": "execute_result",
          "data": {
            "text/plain": [
              "Index(['MSSubClass', 'LotFrontage', 'LotArea', 'OverallQual', 'OverallCond',\n",
              "       'YearBuilt', 'YearRemodAdd', 'MasVnrArea', 'BsmtFinSF1', 'BsmtFinSF2',\n",
              "       'BsmtUnfSF', 'TotalBsmtSF', '1stFlrSF', '2ndFlrSF', 'LowQualFinSF',\n",
              "       'GrLivArea', 'BsmtFullBath', 'BsmtHalfBath', 'FullBath', 'HalfBath',\n",
              "       'BedroomAbvGr', 'KitchenAbvGr', 'TotRmsAbvGrd', 'Fireplaces',\n",
              "       'GarageYrBlt', 'GarageCars', 'GarageArea', 'WoodDeckSF', 'OpenPorchSF',\n",
              "       'EnclosedPorch', '3SsnPorch', 'ScreenPorch', 'PoolArea', 'MiscVal',\n",
              "       'MoSold', 'YrSold', 'SalePrice'],\n",
              "      dtype='object')"
            ]
          },
          "metadata": {
            "tags": []
          },
          "execution_count": 15
        }
      ]
    },
    {
      "cell_type": "markdown",
      "metadata": {
        "id": "6ri6d9CD8Ebc"
      },
      "source": [
        "Llenando valores faltantes"
      ]
    },
    {
      "cell_type": "code",
      "metadata": {
        "id": "bSfB10198oPb"
      },
      "source": [
        "for col in categorical_features:\r\n",
        "  df[col] = df[col].fillna('None')\r\n",
        "df['FireplaceQu'] = df['FireplaceQu'].fillna('None')\r\n",
        "df['GarageQual'] = df['GarageQual'].fillna('None')\r\n",
        "df['GarageFinish'] = df['GarageFinish'].fillna('None')\r\n",
        "df['GarageCond'] = df['GarageCond'].fillna('None')\r\n",
        "df['GarageType'] = df['GarageType'].fillna('None')\r\n",
        "df['BsmtExposure'] = df['BsmtExposure'].fillna('None')\r\n",
        "df['BsmtQual'] = df['BsmtQual'].fillna('None')\r\n",
        "df['BsmtCond'] = df['BsmtCond'].fillna('None')\r\n",
        "df['BsmtFinType2'] = df['BsmtFinType2'].fillna('None')\r\n",
        "df['BsmtFinType1'] = df['BsmtFinType1'].fillna('None')\r\n",
        "df['MasVnrType'] = df['MasVnrType'].fillna('None')\r\n",
        "df['BsmtFinType2'] = df['BsmtFinType2'].fillna('None')\r\n",
        "df['LotFrontage'] = df['LotFrontage'].fillna(np.sqrt(df['LotArea']))\r\n",
        "df['GarageYrBlt'] = df['GarageYrBlt'].fillna(df['YearBuilt'])\r\n",
        "df['GarageCars'] = df['GarageCars'].fillna(2)\r\n",
        "df['MasVnrArea'] = df['MasVnrArea'].fillna(0)\r\n",
        "df['MSZoning'] = df['MSZoning'].fillna(value='RL')\r\n",
        "df['Utilities'] = df['Utilities'].fillna(value='AllPub')\r\n",
        "df['BsmtHalfBath'] = df['BsmtHalfBath'].fillna(0)\r\n",
        "df['BsmtFullBath'] = df['BsmtFullBath'].fillna(0)\r\n",
        "df['Functional'] = df['Functional'].fillna(df['Functional'].mode()[0])\r\n",
        "df['BsmtFinSF1'] = df['BsmtFinSF1'].fillna(0)\r\n",
        "df[['TotalBsmtSF','BsmtUnfSF']] = df[['TotalBsmtSF','BsmtUnfSF']].fillna(0)\r\n",
        "df['SaleType'] = df['SaleType'].fillna(df['SaleType'].mode()[0])\r\n",
        "df[['Exterior1st','Exterior2nd']] = df[['Exterior1st','Exterior2nd']].fillna('MetalSd')\r\n",
        "df['Electrical'] = df['Electrical'].fillna(value='SBrkr')\r\n",
        "df['KitchenQual'] = df['KitchenQual'].fillna(value='TA')"
      ],
      "execution_count": 16,
      "outputs": []
    },
    {
      "cell_type": "code",
      "metadata": {
        "colab": {
          "base_uri": "https://localhost:8080/",
          "height": 49
        },
        "id": "68G8cWH0804i",
        "outputId": "766f2e6e-6af7-4d9b-855a-1d542bb10fe1"
      },
      "source": [
        "getMissingValues(df)"
      ],
      "execution_count": 17,
      "outputs": [
        {
          "output_type": "execute_result",
          "data": {
            "text/html": [
              "<div>\n",
              "<style scoped>\n",
              "    .dataframe tbody tr th:only-of-type {\n",
              "        vertical-align: middle;\n",
              "    }\n",
              "\n",
              "    .dataframe tbody tr th {\n",
              "        vertical-align: top;\n",
              "    }\n",
              "\n",
              "    .dataframe thead th {\n",
              "        text-align: right;\n",
              "    }\n",
              "</style>\n",
              "<table border=\"1\" class=\"dataframe\">\n",
              "  <thead>\n",
              "    <tr style=\"text-align: right;\">\n",
              "      <th></th>\n",
              "      <th>% Faltantes</th>\n",
              "    </tr>\n",
              "  </thead>\n",
              "  <tbody>\n",
              "  </tbody>\n",
              "</table>\n",
              "</div>"
            ],
            "text/plain": [
              "Empty DataFrame\n",
              "Columns: [% Faltantes]\n",
              "Index: []"
            ]
          },
          "metadata": {
            "tags": []
          },
          "execution_count": 17
        }
      ]
    },
    {
      "cell_type": "code",
      "metadata": {
        "id": "AjCpbwCmvedE"
      },
      "source": [
        "enc = LabelEncoder()\r\n",
        "df[categorical_features] = df[categorical_features].apply(LabelEncoder().fit_transform)\r\n"
      ],
      "execution_count": 18,
      "outputs": []
    },
    {
      "cell_type": "markdown",
      "metadata": {
        "id": "TVlJGyszqKDQ"
      },
      "source": [
        "### Muestreo de datos"
      ]
    },
    {
      "cell_type": "code",
      "metadata": {
        "id": "9QyQPwNJrIhG"
      },
      "source": [
        "def splitData(df):\r\n",
        "  X = df.iloc[:, :-1]\r\n",
        "  y = df.iloc[:,-1:]\r\n",
        "  Xtrain, Xtest, Ytrain, Ytest = train_test_split(X, y, test_size=0.2)\r\n",
        "  return Xtrain, Xtest, Ytrain, Ytest, X, y"
      ],
      "execution_count": 29,
      "outputs": []
    },
    {
      "cell_type": "code",
      "metadata": {
        "id": "LHBIzCoTPzUn",
        "colab": {
          "base_uri": "https://localhost:8080/"
        },
        "outputId": "9db671b9-69dc-4c62-ad18-6c1d071a9c5e"
      },
      "source": [
        "Xtrain, Xtest, Ytrain, Ytest, x, y = splitData(df)\r\n",
        "print(df.shape, Xtrain.shape, Xtest.shape, Ytrain.shape)"
      ],
      "execution_count": 31,
      "outputs": [
        {
          "output_type": "stream",
          "text": [
            "(1460, 76) (1168, 75) (292, 75) (1168, 1)\n"
          ],
          "name": "stdout"
        }
      ]
    },
    {
      "cell_type": "markdown",
      "metadata": {
        "id": "nJiifdEIYHCU"
      },
      "source": [
        "### Validación\r\n",
        "\r\n",
        "\r\n"
      ]
    },
    {
      "cell_type": "code",
      "metadata": {
        "id": "SBMdrbAfYN3F"
      },
      "source": [
        "def MAPE(y_true, y_pred): \r\n",
        "    y_true, y_pred = np.array(y_true), np.array(y_pred)\r\n",
        "    return np.mean(np.abs((y_true - y_pred) / y_true)) * 100\r\n",
        "    \r\n",
        "\r\n",
        "def validate(ytest, ypred, show_r = False):\r\n",
        "  MAE = mean_absolute_error(ytest, ypred)\r\n",
        "  MAPE_ = MAPE(ytest, ypred)\r\n",
        "  MSE = mean_squared_error(ytest, ypred)\r\n",
        "  RMSE = np.sqrt(MSE)\r\n",
        "  r2 = r2_score(ypred,ytest)\r\n",
        "  if (show_r):\r\n",
        "    print(\"MAE: \", MAE)\r\n",
        "    print(\"MAPE: \", MAPE_)\r\n",
        "    print(\"Error cuadrático medio: \", MSE)\r\n",
        "    print(\"Raiz ECM: \", RMSE)\r\n",
        "    print(\"R2: \", r2)\r\n",
        "  else:\r\n",
        "    return MAE, MAPE_, MSE, RMSE"
      ],
      "execution_count": 26,
      "outputs": []
    },
    {
      "cell_type": "markdown",
      "metadata": {
        "id": "7jGHMV0ZQuNe"
      },
      "source": [
        "### Modelos"
      ]
    },
    {
      "cell_type": "markdown",
      "metadata": {
        "id": "378kJHQDtJOf"
      },
      "source": [
        "#### Regresion múltiple "
      ]
    },
    {
      "cell_type": "code",
      "metadata": {
        "id": "qTpsWtUqteov"
      },
      "source": [
        "reg=LinearRegression()   \n",
        "reg.fit(Xtrain,Ytrain)\n",
        "reg_pred = reg.predict(Xtest)"
      ],
      "execution_count": 32,
      "outputs": []
    },
    {
      "cell_type": "code",
      "metadata": {
        "id": "orRlM9Bd-xqC",
        "colab": {
          "base_uri": "https://localhost:8080/"
        },
        "outputId": "d8890b4a-070a-4b2f-bbcc-765e58ab143a"
      },
      "source": [
        "validate(Ytest, reg_pred , show_r= True )"
      ],
      "execution_count": 23,
      "outputs": [
        {
          "output_type": "stream",
          "text": [
            "MAE:  0.09920165929169998\n",
            "MAPE:  0.8289515256896051\n",
            "Error cuadrático medio:  0.041889593410668155\n",
            "Raiz ECM:  0.204669473568161\n",
            "R2:  0.7263082101896692\n"
          ],
          "name": "stdout"
        }
      ]
    },
    {
      "cell_type": "markdown",
      "metadata": {
        "id": "kr3xXS2N2-WE"
      },
      "source": [
        "#### KNN\r\n"
      ]
    },
    {
      "cell_type": "code",
      "metadata": {
        "id": "mIQgFgynJwoF"
      },
      "source": [
        "from sklearn.model_selection import GridSearchCV"
      ],
      "execution_count": 28,
      "outputs": []
    },
    {
      "cell_type": "code",
      "metadata": {
        "colab": {
          "base_uri": "https://localhost:8080/"
        },
        "id": "KJQO0FRDJgj2",
        "outputId": "97da650d-1975-4b7f-cf8d-352fc6a88f29"
      },
      "source": [
        "# importing KNN regression\r\n",
        "from sklearn.neighbors import KNeighborsRegressor\r\n",
        "parameters = {\r\n",
        "            'n_neighbors' : [1,2,3,4,5,6,7,8,9,10],\r\n",
        "            'algorithm' : ['ball_tree', 'brute']\r\n",
        "             }\r\n",
        "grid_search_cv = GridSearchCV(KNeighborsRegressor(), parameters)\r\n",
        "grid_search_cv.fit(Xtrain, Ytrain)"
      ],
      "execution_count": 29,
      "outputs": [
        {
          "output_type": "execute_result",
          "data": {
            "text/plain": [
              "GridSearchCV(cv=None, error_score=nan,\n",
              "             estimator=KNeighborsRegressor(algorithm='auto', leaf_size=30,\n",
              "                                           metric='minkowski',\n",
              "                                           metric_params=None, n_jobs=None,\n",
              "                                           n_neighbors=5, p=2,\n",
              "                                           weights='uniform'),\n",
              "             iid='deprecated', n_jobs=None,\n",
              "             param_grid={'algorithm': ['ball_tree', 'brute'],\n",
              "                         'n_neighbors': [1, 2, 3, 4, 5, 6, 7, 8, 9, 10]},\n",
              "             pre_dispatch='2*n_jobs', refit=True, return_train_score=False,\n",
              "             scoring=None, verbose=0)"
            ]
          },
          "metadata": {
            "tags": []
          },
          "execution_count": 29
        }
      ]
    },
    {
      "cell_type": "code",
      "metadata": {
        "colab": {
          "base_uri": "https://localhost:8080/"
        },
        "id": "N3Tj3laPJ-7k",
        "outputId": "f1fcc33a-c417-447a-e250-bddfd9d16350"
      },
      "source": [
        "grid_search_cv.best_params_"
      ],
      "execution_count": 30,
      "outputs": [
        {
          "output_type": "execute_result",
          "data": {
            "text/plain": [
              "{'algorithm': 'ball_tree', 'n_neighbors': 5}"
            ]
          },
          "metadata": {
            "tags": []
          },
          "execution_count": 30
        }
      ]
    },
    {
      "cell_type": "code",
      "metadata": {
        "colab": {
          "base_uri": "https://localhost:8080/"
        },
        "id": "M7a1J511KHud",
        "outputId": "e03b301c-dd10-494c-8787-b15c32f4c151"
      },
      "source": [
        "knn = KNeighborsRegressor(n_neighbors = 7, algorithm='ball_tree')\r\n",
        "# fitting the model with the training dataset\r\n",
        "knn.fit(Xtrain, Ytrain)\r\n",
        "# predicting the values\r\n",
        "predicted_value = knn.predict(Xtest)\r\n",
        "\r\n",
        "print(knn.score(Xtrain, Ytrain))\r\n",
        "validate(Ytest, predicted_value , show_r= True )\r\n"
      ],
      "execution_count": 58,
      "outputs": [
        {
          "output_type": "stream",
          "text": [
            "0.76447799599814\n",
            "MAE:  0.16193962778222062\n",
            "MAPE:  1.3452729916690904\n",
            "Error cuadrático medio:  0.0474416292576155\n",
            "Raiz ECM:  0.21781099434513285\n",
            "R2:  0.4982104104379763\n"
          ],
          "name": "stdout"
        }
      ]
    },
    {
      "cell_type": "markdown",
      "metadata": {
        "id": "IuZAAquQtUaq"
      },
      "source": [
        "\n",
        "#### Random Forest"
      ]
    },
    {
      "cell_type": "code",
      "metadata": {
        "id": "qCdWGBW0UFJz",
        "colab": {
          "base_uri": "https://localhost:8080/"
        },
        "outputId": "533aa6dc-edf7-4641-81c4-7bf0d94a3466"
      },
      "source": [
        "parameters = {\n",
        "            'n_estimators' : [20, 50, 100],\n",
        "            'max_depth' : [15,18,20]\n",
        "             }\n",
        "grid_search_cv = GridSearchCV(RandomForestRegressor(), parameters)\n",
        "grid_search_cv.fit(Xtrain, Ytrain.values.ravel())"
      ],
      "execution_count": 32,
      "outputs": [
        {
          "output_type": "execute_result",
          "data": {
            "text/plain": [
              "GridSearchCV(cv=None, error_score=nan,\n",
              "             estimator=RandomForestRegressor(bootstrap=True, ccp_alpha=0.0,\n",
              "                                             criterion='mse', max_depth=None,\n",
              "                                             max_features='auto',\n",
              "                                             max_leaf_nodes=None,\n",
              "                                             max_samples=None,\n",
              "                                             min_impurity_decrease=0.0,\n",
              "                                             min_impurity_split=None,\n",
              "                                             min_samples_leaf=1,\n",
              "                                             min_samples_split=2,\n",
              "                                             min_weight_fraction_leaf=0.0,\n",
              "                                             n_estimators=100, n_jobs=None,\n",
              "                                             oob_score=False, random_state=None,\n",
              "                                             verbose=0, warm_start=False),\n",
              "             iid='deprecated', n_jobs=None,\n",
              "             param_grid={'max_depth': [15, 18, 20],\n",
              "                         'n_estimators': [20, 50, 100]},\n",
              "             pre_dispatch='2*n_jobs', refit=True, return_train_score=False,\n",
              "             scoring=None, verbose=0)"
            ]
          },
          "metadata": {
            "tags": []
          },
          "execution_count": 32
        }
      ]
    },
    {
      "cell_type": "code",
      "metadata": {
        "id": "ODrGPw7bVL5r",
        "colab": {
          "base_uri": "https://localhost:8080/"
        },
        "outputId": "bc14229b-4c78-4bef-e313-e53ca3f9ea6d"
      },
      "source": [
        "grid_search_cv.best_params_"
      ],
      "execution_count": 36,
      "outputs": [
        {
          "output_type": "execute_result",
          "data": {
            "text/plain": [
              "{'max_depth': 15, 'n_estimators': 100}"
            ]
          },
          "metadata": {
            "tags": []
          },
          "execution_count": 36
        }
      ]
    },
    {
      "cell_type": "code",
      "metadata": {
        "id": "j378DsWiVjjK",
        "colab": {
          "base_uri": "https://localhost:8080/"
        },
        "outputId": "205618f6-9e5f-4bc9-f7fe-45200bb3c5bd"
      },
      "source": [
        "rf = RandomForestRegressor(n_estimators=100,\n",
        "                          max_depth=15)\n",
        "rf.fit(Xtrain, Ytrain.values.ravel())\n",
        "predicted_value = rf.predict(Xtest)\n",
        "\n",
        "validate(Ytest, predicted_value, show_r=True)"
      ],
      "execution_count": 37,
      "outputs": [
        {
          "output_type": "stream",
          "text": [
            "MAE:  0.083120107679978\n",
            "MAPE:  3.5075187215761\n",
            "Error cuadrático medio:  0.013698828388081001\n",
            "Raiz ECM:  0.11704199412211413\n",
            "R2:  0.8947023643281636\n"
          ],
          "name": "stdout"
        }
      ]
    },
    {
      "cell_type": "markdown",
      "metadata": {
        "id": "lE6tCNvf6lrQ"
      },
      "source": [
        "#### GradientBosting"
      ]
    },
    {
      "cell_type": "code",
      "metadata": {
        "colab": {
          "base_uri": "https://localhost:8080/"
        },
        "id": "vEAaF9ff6suS",
        "outputId": "5176311d-51a3-4c89-87de-2aa27a6a39ac"
      },
      "source": [
        "\r\n",
        "rlf = GradientBoostingRegressor()\r\n",
        "rlf.fit(Xtrain,Ytrain.values.ravel())\r\n",
        "predicted_value = rlf.predict(Xtest)\r\n",
        "validate(Ytest, predicted_value, show_r=True)\r\n"
      ],
      "execution_count": 51,
      "outputs": [
        {
          "output_type": "stream",
          "text": [
            "MAE:  0.07572523487675782\n",
            "MAPE:  3.559019340353755\n",
            "Error cuadrático medio:  0.010384261233308125\n",
            "Raiz ECM:  0.10190319540283378\n",
            "R2:  0.9254080308272843\n"
          ],
          "name": "stdout"
        }
      ]
    },
    {
      "cell_type": "markdown",
      "metadata": {
        "id": "XlqBsCgJtaZv"
      },
      "source": [
        "#### Regresion por Vectores de Soporte con kernel RBF."
      ]
    },
    {
      "cell_type": "code",
      "metadata": {
        "id": "71qaV3XGVbra"
      },
      "source": [
        "\r\n",
        "from sklearn.pipeline import make_pipeline\r\n",
        "from sklearn.preprocessing import RobustScaler"
      ],
      "execution_count": 38,
      "outputs": []
    },
    {
      "cell_type": "code",
      "metadata": {
        "id": "ilfaP7QA3-an"
      },
      "source": [
        "from sklearn.svm import SVR"
      ],
      "execution_count": 39,
      "outputs": []
    },
    {
      "cell_type": "code",
      "metadata": {
        "colab": {
          "base_uri": "https://localhost:8080/"
        },
        "id": "Ap1GACo2MprF",
        "outputId": "4a9f575f-bba9-46df-bf86-f7dc8574ee1c"
      },
      "source": [
        "parameters = {\r\n",
        "            'epsilon': [0.004, 0.008, 0.0005, 0.0008]\r\n",
        "             }\r\n",
        "grid_search_cv = GridSearchCV(SVR(), parameters)\r\n",
        "grid_search_cv.fit(Xtrain, Ytrain.values.ravel())"
      ],
      "execution_count": 40,
      "outputs": [
        {
          "output_type": "execute_result",
          "data": {
            "text/plain": [
              "GridSearchCV(cv=None, error_score=nan,\n",
              "             estimator=SVR(C=1.0, cache_size=200, coef0=0.0, degree=3,\n",
              "                           epsilon=0.1, gamma='scale', kernel='rbf',\n",
              "                           max_iter=-1, shrinking=True, tol=0.001,\n",
              "                           verbose=False),\n",
              "             iid='deprecated', n_jobs=None,\n",
              "             param_grid={'epsilon': [0.004, 0.008, 0.0005, 0.0008]},\n",
              "             pre_dispatch='2*n_jobs', refit=True, return_train_score=False,\n",
              "             scoring=None, verbose=0)"
            ]
          },
          "metadata": {
            "tags": []
          },
          "execution_count": 40
        }
      ]
    },
    {
      "cell_type": "code",
      "metadata": {
        "colab": {
          "base_uri": "https://localhost:8080/"
        },
        "id": "KcJAOgeiMpS2",
        "outputId": "c6f6b5d2-b750-47e2-ad01-683715f0d6e5"
      },
      "source": [
        "grid_search_cv.best_params_"
      ],
      "execution_count": 41,
      "outputs": [
        {
          "output_type": "execute_result",
          "data": {
            "text/plain": [
              "{'epsilon': 0.008}"
            ]
          },
          "metadata": {
            "tags": []
          },
          "execution_count": 41
        }
      ]
    },
    {
      "cell_type": "code",
      "metadata": {
        "colab": {
          "base_uri": "https://localhost:8080/"
        },
        "id": "E1k73fVcNFyW",
        "outputId": "9886e21a-5c07-4b15-c264-d04141ce657d"
      },
      "source": [
        "# Support Vector Regressor\r\n",
        "svr = make_pipeline(StandardScaler(), SVR(kernel='rbf', epsilon= 0.008))\r\n",
        "\r\n",
        "# fitting the model with the training dataset\r\n",
        "svr.fit(Xtrain, Ytrain.values.ravel())\r\n",
        "# predicting the values\r\n",
        "predicted_value = svr.predict(Xtest)\r\n",
        "\r\n",
        "validate(Ytest, predicted_value, show_r=True)"
      ],
      "execution_count": 43,
      "outputs": [
        {
          "output_type": "stream",
          "text": [
            "MAE:  0.0954946397556736\n",
            "MAPE:  3.4630303730530976\n",
            "Error cuadrático medio:  0.02532644790504285\n",
            "Raiz ECM:  0.15914285376680554\n",
            "R2:  0.7929192192191681\n"
          ],
          "name": "stdout"
        }
      ]
    },
    {
      "cell_type": "markdown",
      "metadata": {
        "id": "F9sfK4P8VkuJ"
      },
      "source": [
        "Conclusión"
      ]
    },
    {
      "cell_type": "markdown",
      "metadata": {
        "id": "N9f1gHKKVmhr"
      },
      "source": [
        "### Extracción de Caracteristicas por PCA\r\n"
      ]
    },
    {
      "cell_type": "code",
      "metadata": {
        "id": "N8BxjVu3WKLT"
      },
      "source": [
        "from sklearn.decomposition import PCA\r\n",
        "from sklearn.preprocessing import RobustScaler"
      ],
      "execution_count": 85,
      "outputs": []
    },
    {
      "cell_type": "code",
      "metadata": {
        "id": "Es-BVLysWAp5"
      },
      "source": [
        "def extract_features(n):\r\n",
        "    ext = PCA(n_components=n)\r\n",
        "    return ext\r\n",
        "\r\n",
        "scaler = RobustScaler()\r\n",
        "X_scaled = scaler.fit(Xtrain).transform(Xtrain)\r\n",
        "\r\n",
        "pca =  extract_features(0.95)\r\n",
        "\r\n",
        "X_scaled=pca.fit_transform(X_scaled)\r\n",
        "y_log = np.log(Ytrain)\r\n",
        "test_X_scaled = pca.transform(Xtest)\r\n",
        "y_log_test = np.log(Ytest)"
      ],
      "execution_count": 86,
      "outputs": []
    },
    {
      "cell_type": "code",
      "metadata": {
        "id": "5J6x_ETq0pU-",
        "colab": {
          "base_uri": "https://localhost:8080/"
        },
        "outputId": "4b2141fa-cfbd-4207-b084-15b5e69755c7"
      },
      "source": [
        "reg = LinearRegression()\n",
        "reg.fit(X_scaled, y_log)\n",
        "predicted_value = reg.predict(test_X_scaled)\n",
        "validate(Ytest, predicted_value, show_r=True)"
      ],
      "execution_count": 87,
      "outputs": [
        {
          "output_type": "stream",
          "text": [
            "MAE:  9.537540807492414\n",
            "MAPE:  79.29651415299327\n",
            "Error cuadrático medio:  91.13289761226768\n",
            "Raiz ECM:  9.54635520040333\n",
            "R2:  -125874196.95882525\n"
          ],
          "name": "stdout"
        }
      ]
    },
    {
      "cell_type": "markdown",
      "metadata": {
        "id": "m9AK_iz3AIhz"
      },
      "source": [
        "##### Random Forest"
      ]
    },
    {
      "cell_type": "code",
      "metadata": {
        "id": "uC1RupEr-pqM",
        "colab": {
          "base_uri": "https://localhost:8080/"
        },
        "outputId": "d5010d28-98c8-4138-8398-90ae0294a0d8"
      },
      "source": [
        "rf = RandomForestRegressor(n_estimators=1100,\n",
        "                          max_depth=15)\n",
        "\n",
        "rf.fit(X_scaled, y_log)\n",
        "predicted_value = rf.predict(test_X_scaled)\n",
        "validate(Ytest, predicted_value, show_r=True)"
      ],
      "execution_count": 89,
      "outputs": [
        {
          "output_type": "stream",
          "text": [
            "/usr/local/lib/python3.6/dist-packages/ipykernel_launcher.py:4: DataConversionWarning: A column-vector y was passed when a 1d array was expected. Please change the shape of y to (n_samples,), for example using ravel().\n",
            "  after removing the cwd from sys.path.\n"
          ],
          "name": "stderr"
        },
        {
          "output_type": "stream",
          "text": [
            "MAE:  9.518170426703584\n",
            "MAPE:  79.13523217790302\n",
            "Error cuadrático medio:  90.76288329657288\n",
            "Raiz ECM:  9.526955615335513\n",
            "R2:  -622516.9536808992\n"
          ],
          "name": "stdout"
        }
      ]
    },
    {
      "cell_type": "markdown",
      "metadata": {
        "id": "E14oovJGThyt"
      },
      "source": [
        "##### Gradient Boosting"
      ]
    },
    {
      "cell_type": "code",
      "metadata": {
        "colab": {
          "base_uri": "https://localhost:8080/"
        },
        "id": "VXMWqi8OThyu",
        "outputId": "8e9a479f-e0ab-4993-8572-f42f8d7b2edb"
      },
      "source": [
        "rlf = GradientBoostingRegressor()\n",
        "rlf.fit(Xtrain,Ytrain.values.ravel())\n",
        "rlf.fit(X_scaled, y_log)\n",
        "predicted_value = rlf.predict(test_X_scaled)\n",
        "validate(Ytest, predicted_value, show_r=True)"
      ],
      "execution_count": 90,
      "outputs": [
        {
          "output_type": "stream",
          "text": [
            "MAE:  9.52690939133198\n",
            "MAPE:  79.20799535537158\n",
            "Error cuadrático medio:  90.92928910216959\n",
            "Raiz ECM:  9.535685035809939\n",
            "R2:  -1718787.6934697302\n"
          ],
          "name": "stdout"
        },
        {
          "output_type": "stream",
          "text": [
            "/usr/local/lib/python3.6/dist-packages/sklearn/ensemble/_gb.py:1454: DataConversionWarning: A column-vector y was passed when a 1d array was expected. Please change the shape of y to (n_samples, ), for example using ravel().\n",
            "  y = column_or_1d(y, warn=True)\n"
          ],
          "name": "stderr"
        }
      ]
    }
  ]
}